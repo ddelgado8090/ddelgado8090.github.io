{
 "cells": [
  {
   "cell_type": "raw",
   "metadata": {},
   "source": [
    "---\n",
    "mermaid: \n",
    "    theme: neutral\n",
    "---"
   ]
  },
  {
   "cell_type": "raw",
   "metadata": {},
   "source": [
    "from torch import nn\n",
    "\n",
    "class LinearModel (nn.Module):\n",
    "\n",
    "    def __init__(self, num_features, num_labels):\n",
    "        super.__innit__()\n",
    "        self.pipeline = nn.Sequential(\n",
    "            nn.Linear(num_features, num_labels) # implements multiplication by w\n",
    "\n",
    "\n",
    "    def score(self, x):\n",
    "        return self.pipeline(x)\n",
    "\n",
    "    # this is strictly for visualization -- not involved in the training loop\n",
    "    def predict(self, x): \n",
    "        return self.score(x) > 0"
   ]
  },
  {
   "cell_type": "markdown",
   "metadata": {},
   "source": [
    "# The Problem of Features and Deep Learning\n",
    "\n",
    "Let's begin by recalling and slightly expanding the empirical risk minimization framework that we've developed throughout this course. In the simplest approach to empirical risk minimization, we began with a matrix of features $\\mathbf{X} \\in \\mathbb{R}^{n\\times p}$ and a vector of targets $\\mathbf{y} \\in \\mathbb{R}^n$. We defined a linear score  $s =  \\langle \\mathbf{w}, \\mathbf{x}\\rangle$ which we interpreted as producing predictions of the value of $y$. We then defined a loss function $\\ell: \\mathbb{R}\\times \\mathbb{R} \\rightarrow \\mathbb{R}$ that told us the quality of the prediction $s$ by comparing it to a true target $y$. Our learning problem was to find $\\mathbf{w}$ by minimizing the *empirical risk*: the mean (or sum) of the risk across all data points:  \n",
    "\n",
    "$$\n",
    "\\DeclareMathOperator*{\\argmin}{argmin}\n",
    "\\begin{aligned}\n",
    "\\hat{\\mathbf{w}} &= \\argmin_{\\mathbf{w} \\in \\mathbb{R}^p} \\frac{1}{n}\\sum_{i = 1}^n \\ell(s_i, y_i) \\\\ \n",
    "                 &= \\argmin_{\\mathbf{w} \\in \\mathbb{R}^p} \\frac{1}{n}\\sum_{i = 1}^n \\ell(\\langle \\mathbf{w}, \\mathbf{x}_i \\rangle, y_i)\\;. \n",
    "\\end{aligned}\n",
    "$$\n",
    "\n",
    "At first, we solved this problem using gradient descent. However, we soon ran into an issue -- the linear score $s = \\langle \\mathbf{w}, \\mathbf{x}\\rangle$ is only capable of describing linear structures in the data. \n",
    "\n",
    "So far, we've addressed nonlinearity in two ways. First, we tried *manual feature engineering*. In manual feature engineering, we apply a feature map $\\phi: \\mathbb{R}^p \\rightarrow \\mathbb{R}^q$ to the rows of the data matrix $\\mathbf{X}$ to produce a new matrix $\\Phi(\\mathbf{X})$:  \n",
    "\n",
    "$$\n",
    "\\begin{aligned}\n",
    "    \\Phi(\\mathbf{X}) \\triangleq \\left[\\begin{matrix}\\phi(\\mathbf{x}_1) \\\\ \\phi(\\mathbf{x}_2) \\\\ \\vdots \\\\ \\phi(\\mathbf{x}_n)\\end{matrix}\\right] \n",
    "\\end{aligned}\n",
    "$$\n",
    "\n",
    "Our problem then became to solve the empirical risk minimization problem \n",
    "\n",
    "$$\n",
    "\\begin{aligned}\n",
    "\\hat{\\mathbf{w}} &= \\argmin_{\\mathbf{w} \\in \\mathbb{R}^q} \\frac{1}{n}\\sum_{i = 1}^n \\ell(\\langle \\mathbf{w}, \\phi(\\mathbf{x}_i) \\rangle, y_i)\\;, \n",
    "\\end{aligned}\n",
    "$${#eq-ERM}\n",
    "\n",
    "where $\\mathbf{w}$ had as many entries as the number of features which we generated using $\\phi$. Later on, we saw that we could actually solve this problem in some cases using *kernel methods*, which allowed us to use complex feature maps without ever explicitly calculating them. A limitation of both manual feature engineering and kernel methods is that the practitioner needs to make a choice about what features to engineer or what kernels to use. For some data sets it might be relatively easy to make this choice, while for others it might be much harder. For extremely large data sets with very complex patterns, it may be very difficult to figure out what features will facilitate the learning task. \n",
    "\n",
    "Manual feature engineering and kernel methods were state-of-the-art for many machine learning tasks up until the advent of practical deep learning early in the 21st century. \n",
    "\n",
    "## The Computational Graph \n",
    "\n",
    "\n",
    "It will soon be very useful for us to start thinking about the operations underlying the computation of the loss in terms of a *computational graph*. In the computational graph, we break down each operation as an edge in the graph, storing the result of that operation in the nodes. \n",
    "\n",
    "For example, here's a high-level computational graph associated with the standard linear model in @eq-ERM with no feature maps: \n",
    "\n",
    "shows the loss\n",
    "\n",
    "```{mermaid}\n",
    "flowchart LR\n",
    "  input[Data matrix X] --Matrix-vector\\nmultiplication--> l3[\"Xw\"]\n",
    "\n",
    "  y[Targets y]        --Apply\\nloss--> loss[\"ℓ(Xw, y)\"]\n",
    "  l3       --Apply\\nloss--> loss \n",
    "  loss     --Compute\\naverage-->L\n",
    "```\n",
    "\n",
    "If we wanted to apply a feature map $\\phi$, we would need to incorporate one additional step in the computational graph: \n",
    "\n",
    "- has new edge and node to apply feature map \n",
    "\n",
    "```{mermaid}\n",
    "flowchart LR\n",
    "  input[Data matrix X] --Apply feature\\nmap-->l1[\"Φ(X)\"]\n",
    "  l1                   --Matrix-vector\\nmultiplication--> l3[\"Φ(X)w\"]\n",
    "\n",
    "  y[Targets y] --Apply\\nloss--> loss[\"ℓ(Φ(X)w, y)\"]\n",
    "  l3           --Apply\\nloss--> loss \n",
    "  loss         --Compute\\naverage-->L\n",
    "```\n",
    "\n",
    "\n",
    "## Optimizing the Features\n",
    "\n",
    "Here's a superficially simple question about @eq-ERM and its associated computational graph: what if we could learn both the weights $\\mathbf{w}$ *and* the feature map $\\phi$ simultaneously? That is, what if we could solve a problem like \n",
    "\n",
    "$$\n",
    "\\begin{aligned}\n",
    "\\hat{\\mathbf{w}} &= \\argmin_{\\mathbf{w} \\in \\mathbb{R}^q, \\color{blue}{\\phi \\in \\mathcal{F}}} \\frac{1}{n}\\sum_{i = 1}^n \\ell(\\langle \\mathbf{w}, \\phi(\\mathbf{x}_i) \\rangle, y_i)\\;, \n",
    "\\end{aligned}\n",
    "$${#eq-ERM-feature}\n",
    "\n",
    "\n",
    "where $\\mathcal{F}$ is some set of possible feature maps? \n",
    "\n",
    "In general, we have no hope of doing this -- there are simply too many possible feature maps. However, if we restrict the set $\\mathcal{F}$ somewhat, then we may have some hope. \n",
    "\n",
    "In particular, let's choose a *nonlinear* function $\\alpha: \\mathbb{R} \\rightarrow \\mathbb{R}$ and a matrix $\\mathbf{U} \\in \\mathbb{R}^{p \\times q}$. We'll define our feature map $\\phi$ by the formula $\\phi(\\mathbf{X}) = \\alpha(\\mathbf{X}\\mathbf{U})$, where $\\alpha$ is applied to each element of the matrix $\\mathbf{X}\\mathbf{U}$. We'll treat $\\alpha$ as fixed but $\\mathbf{U}$ as *learnable*. This turns our optimization problem into\n",
    "\n",
    "- U is a matrix of new parameters (real numbers)\n",
    "\n",
    "- nothing is convex, model probs stuck on local min. might not find global min. DL\n",
    "\n",
    "$$\n",
    "\\begin{aligned}\n",
    "\\hat{\\mathbf{w}} &= \\argmin_{\\mathbf{w} \\in \\mathbb{R}^q, \\color{blue}{\\mathbf{U} \\in \\mathbb{R}^{p \\times q}}} \\frac{1}{n}\\sum_{i = 1}^n \\ell(\\langle \\mathbf{w}, \\alpha (\\mathbf{x}_i \\mathbf{U}) \\rangle, y_i)\\;. \n",
    "\\end{aligned}\n",
    "$${#eq-hidden-layer}\n",
    "\n",
    "We now have an optimization problem with two sets of weights: the standard weights $\\mathbf{w}$ and the *hidden weights* $\\mathbf{U}$. @eq-hidden-layer defines the structure of a *shallow* neural network with a single hidden layer. \n",
    "\n",
    "The computational graph for this @eq-hidden-layer model now looks like this: \n",
    "\n",
    "```{mermaid}\n",
    "flowchart LR\n",
    "  input[Data matrix X] --Matrix\\nmultiplication--> l1[XU]\n",
    "  l1       --Nonlinearity--> l2[\"ɑ(XU)\"]\n",
    "  l2       --Matrix-vector\\nmultiplication--> l3[\"ɑ(XU)w\"]\n",
    "\n",
    "  y[Targets y]        --Apply\\nloss--> loss[\"ℓ(ɑ(XU)w, y)\"]\n",
    "  l3       --Apply\\nloss--> loss \n",
    "  loss     --Compute\\naverage-->L\n",
    "```\n",
    "\n",
    "### Model Layers\n",
    "\n",
    "In this model, the matrix $\\mathbf{U}$ is an example of a so-called *hidden parameter* or *hidden layer*. It's *hidden* because it's not involved in the final computation of scores (like $\\mathbf{w}$) and it's also not part of the data input. If we were only looking at the inputs and final computational operations of the model, we wouldn't see $\\mathbf{U}$ at all. We only see it when we look at the complete sequence of network operations. \n",
    "\n",
    "Importantly, we don't have to stop at one hidden layer. We could pick a *new* matrix $\\mathbf{V} \\in \\mathbb{R}^{q \\times r}$ and a possibly-different nonlinearity $\\beta: \\mathbb{R} \\rightarrow \\mathbb{R}$. Then, we could compute our feature map as \n",
    "\n",
    "$$\n",
    "\\begin{aligned}\n",
    "    \\phi(\\mathbf{X}) = \\beta(\\alpha(\\mathbf{X}\\mathbf{U})\\mathbf{V})\\;.\n",
    "\\end{aligned}\n",
    "$$\n",
    "\n",
    "Then we would have two hidden layers and a longer chain in our computational graph.\n",
    "\n",
    "A so-called *neural network* is a machine learning model that involves one or more arrays of hidden parameters. These models are also often called *deep learning* models -- their \"depth\" is in the unseen layers. \n",
    "\n",
    "## Implementation via Torch\n",
    "\n",
    "Let's go ahead and implement some of these models in Torch. For our first implementation, we are going to focus on the simplest linear model without feature maps. The implementation of this model using Torch's standard neural network model is relatively similar to how we've implemented linear models in the past. The main difference is that instead of manually managing a weight vector `self.w`, instead we manage a `nn.Sequential` object that contains one or more layers of computation. Here, the `Linear` layer implements matrix multiplication and holds the analog of our vector `self.w`. Another difference is that we do not usually implement the loss in the model itself. Instead, we usually call a pre-implemented loss function during the training loop. "
   ]
  },
  {
   "cell_type": "code",
   "execution_count": null,
   "metadata": {},
   "outputs": [],
   "source": []
  },
  {
   "cell_type": "markdown",
   "metadata": {},
   "source": [
    "To see this model in action, let's generate some data. "
   ]
  },
  {
   "cell_type": "code",
   "execution_count": 1,
   "metadata": {},
   "outputs": [
    {
     "name": "stdout",
     "output_type": "stream",
     "text": [
      "Intel MKL WARNING: Support of Intel(R) Streaming SIMD Extensions 4.2 (Intel(R) SSE4.2) enabled only processors has been deprecated. Intel oneAPI Math Kernel Library 2025.0 will require Intel(R) Advanced Vector Extensions (Intel(R) AVX) instructions.\n",
      "Intel MKL WARNING: Support of Intel(R) Streaming SIMD Extensions 4.2 (Intel(R) SSE4.2) enabled only processors has been deprecated. Intel oneAPI Math Kernel Library 2025.0 will require Intel(R) Advanced Vector Extensions (Intel(R) AVX) instructions.\n"
     ]
    }
   ],
   "source": [
    "import torch\n",
    "from sklearn.datasets import make_moons, make_circles\n",
    "from matplotlib import pyplot as plt\n",
    "import numpy as np\n",
    "plt.style.use('seaborn-v0_8-whitegrid')\n",
    "\n",
    "X_train, y_train = make_moons(100, shuffle = True, noise = 0.2)\n",
    "X_train = torch.tensor(X_train, dtype = torch.float)\n",
    "y_train = torch.tensor(y_train)\n",
    "\n",
    "X_val, y_val = make_moons(100, shuffle = True, noise = 0.2)\n",
    "X_val = torch.tensor(X_val, dtype = torch.float)\n",
    "y_val = torch.tensor(y_val)"
   ]
  },
  {
   "cell_type": "code",
   "execution_count": 2,
   "metadata": {},
   "outputs": [],
   "source": [
    "#| code-fold: true\n",
    "def plot_classification_data(X, y, ax, clf = None, thresh = 0, data = \"Training\"):\n",
    "    assert X.shape[1] == 2, \"This function only works for data created with p_dims == 2\"\n",
    "\n",
    "\n",
    "    if clf is not None:\n",
    "        h = 0.01\n",
    "        x_min, x_max = X[:, 0].min() - 0.2, X[:, 0].max() + 0.2\n",
    "        y_min, y_max = X[:, 1].min() - 0.2, X[:, 1].max() + 0.2\n",
    "        xx, yy = torch.meshgrid(torch.arange(x_min, x_max, h), torch.arange(y_min, y_max, h), indexing=\"ij\")\n",
    "        XX = torch.stack([xx.ravel(), yy.ravel()], dim = 1)\n",
    "        Z = clf.score(XX)\n",
    "        Z = Z[:,1].reshape(xx.shape)\n",
    "\n",
    "        v = Z.abs().max()\n",
    "        ax.contourf(xx, yy, Z.detach(), cmap = \"BrBG\", alpha = 0.3, vmin = -v, vmax = v)\n",
    "        ax.contour(xx, yy, Z.detach() > thresh, zorder = -10)\n",
    "\n",
    "        preds = clf.score(X)[:,1] > 0\n",
    "        ax.set(title = f\"{data} Accuracy: {torch.mean((preds == y).float()).item():.2f}\")\n",
    "        \n",
    "    targets = [0, 1]\n",
    "    markers = [\"o\" , \",\"]\n",
    "    for i in range(2):\n",
    "        ix = y == targets[i]\n",
    "        ax.scatter(X[ix,0], X[ix,1], s = 20,  c = y[ix], facecolors = \"none\", edgecolors = \"black\", cmap = \"BrBG\", vmin = -1, vmax = 2, alpha = 0.8, marker = markers[i])\n",
    "    ax.set(xlabel = r\"$x_1$\", ylabel = r\"$x_2$\")"
   ]
  },
  {
   "cell_type": "code",
   "execution_count": 3,
   "metadata": {},
   "outputs": [
    {
     "data": {
      "image/png": "[encoded data removed]",
      "text/plain": [
       "<Figure size 640x480 with 1 Axes>"
      ]
     },
     "metadata": {},
     "output_type": "display_data"
    }
   ],
   "source": [
    "fig, ax = plt.subplots(1, 1)\n",
    "plot_classification_data(X_train,y_train, ax)"
   ]
  },
  {
   "cell_type": "markdown",
   "metadata": {},
   "source": [
    "The training loop for Torch models looks similar to training loops that we have seen for the perceptron and for logistic regression. There are a few important differences: \n",
    "\n",
    "1. We generally use a pre-implemented optimizer from `torch.optim`. Today we're using gradient descent. \n",
    "2. We also use a pre-implemented loss-function. Today we're using the cross-entropy loss. As you may remember, the combination of a linear model with the binary cross-entropy loss means that we are working with our good friend, logistic regression. \n",
    "3. Instead of manually computing a gradient and writing out gradient descent, instead we make the rather cryptic calls `loss.backward()` followed by `opt.step()`. As we'll soon discuss, `loss.backward()` actually handles all the gradient calculations for us (no more calculus by hand!), while `opt.step()` takes that gradient information and uses it to update the parameters. \n",
    "    - After each call of `loss.backward()`, it's necessary to call `opt.zero_grad()` in order to \"zero out\" the gradient information computed in the previous loop. "
   ]
  },
  {
   "cell_type": "code",
   "execution_count": null,
   "metadata": {},
   "outputs": [],
   "source": [
    "def train_model(model, num_steps, **kwargs):\n",
    "\n",
    "    # define the loss function L for the linear model\n",
    "    loss_fn = nn.CrossEntropyLoss()\n",
    "\n",
    "    # instantiate an optimizer -- gradient descent today\n",
    "    opt = torch.optim.SGD(model.parameters(), **kwargs)\n",
    "\n",
    "    # collect the values of the loss in each step\n",
    "    loss_train_vec = []\n",
    "    loss_val_vec   = []\n",
    "\n",
    "    for i in range(num_steps): \n",
    "        #compute scores on training data \n",
    "        s = model.score(X_train)                      # compute the scores \n",
    "        loss = loss_fn(s, y_train)                 # compute the model loss\n",
    "        # loss.backward() calculates the gradient for us efficiently, automatically and without approximation \n",
    "        loss.backward()                      # auto-compute gradient\n",
    "        opt.step()                           # optimizer updates params\n",
    "\n",
    "        opt.zero_grad()                      # zero out the gradient\n",
    "        \n",
    "\n",
    "        # for tracking model progress on the training set\n",
    "        loss_train_vec.append(loss.item())   \n",
    "        \n",
    "        # and on the validation set\n",
    "        s_val = model.score(X_val)\n",
    "        loss_val = loss_fn(s_val, y_val)\n",
    "        loss_val_vec.append(loss_val.item())\n",
    "\n",
    "    return loss_train_vec, loss_val_vec"
   ]
  },
  {
   "cell_type": "markdown",
   "metadata": {},
   "source": [
    "Now that we have defined a model and a training loop, let's go ahead and train the model! "
   ]
  },
  {
   "cell_type": "code",
   "execution_count": 4,
   "metadata": {},
   "outputs": [
    {
     "ename": "NameError",
     "evalue": "name 'LinearModel' is not defined",
     "output_type": "error",
     "traceback": [
      "\u001b[0;31m---------------------------------------------------------------------------\u001b[0m",
      "\u001b[0;31mNameError\u001b[0m                                 Traceback (most recent call last)",
      "Cell \u001b[0;32mIn[4], line 1\u001b[0m\n\u001b[0;32m----> 1\u001b[0m LM \u001b[38;5;241m=\u001b[39m \u001b[43mLinearModel\u001b[49m(\u001b[38;5;241m2\u001b[39m, \u001b[38;5;241m2\u001b[39m)\n\u001b[1;32m      2\u001b[0m loss_train, loss_val \u001b[38;5;241m=\u001b[39m train_model(LM, num_steps \u001b[38;5;241m=\u001b[39m \u001b[38;5;241m1000\u001b[39m, lr \u001b[38;5;241m=\u001b[39m \u001b[38;5;241m0.1\u001b[39m)\n",
      "\u001b[0;31mNameError\u001b[0m: name 'LinearModel' is not defined"
     ]
    }
   ],
   "source": [
    "LM = LinearModel(2, 2)\n",
    "loss_train, loss_val = train_model(LM, num_steps = 1000, lr = 0.1)\n"
   ]
  },
  {
   "cell_type": "markdown",
   "metadata": {},
   "source": [
    "Now that we've trained the model, let's see how we did on the training set: "
   ]
  },
  {
   "cell_type": "code",
   "execution_count": 5,
   "metadata": {},
   "outputs": [
    {
     "ename": "NameError",
     "evalue": "name 'loss_train' is not defined",
     "output_type": "error",
     "traceback": [
      "\u001b[0;31m---------------------------------------------------------------------------\u001b[0m",
      "\u001b[0;31mNameError\u001b[0m                                 Traceback (most recent call last)",
      "Cell \u001b[0;32mIn[5], line 2\u001b[0m\n\u001b[1;32m      1\u001b[0m fig, ax \u001b[38;5;241m=\u001b[39m plt\u001b[38;5;241m.\u001b[39msubplots(\u001b[38;5;241m1\u001b[39m, \u001b[38;5;241m2\u001b[39m, figsize \u001b[38;5;241m=\u001b[39m (\u001b[38;5;241m6\u001b[39m, \u001b[38;5;241m3\u001b[39m))\n\u001b[0;32m----> 2\u001b[0m ax[\u001b[38;5;241m0\u001b[39m]\u001b[38;5;241m.\u001b[39mplot(\u001b[43mloss_train\u001b[49m, c \u001b[38;5;241m=\u001b[39m \u001b[38;5;124m\"\u001b[39m\u001b[38;5;124msteelblue\u001b[39m\u001b[38;5;124m\"\u001b[39m, label \u001b[38;5;241m=\u001b[39m \u001b[38;5;124m\"\u001b[39m\u001b[38;5;124mTraining\u001b[39m\u001b[38;5;124m\"\u001b[39m)\n\u001b[1;32m      3\u001b[0m ax[\u001b[38;5;241m0\u001b[39m]\u001b[38;5;241m.\u001b[39mset(xlabel \u001b[38;5;241m=\u001b[39m \u001b[38;5;124m\"\u001b[39m\u001b[38;5;124miteration\u001b[39m\u001b[38;5;124m\"\u001b[39m, ylabel \u001b[38;5;241m=\u001b[39m \u001b[38;5;124m\"\u001b[39m\u001b[38;5;124mloss\u001b[39m\u001b[38;5;124m\"\u001b[39m)\n\u001b[1;32m      4\u001b[0m plot_classification_data(X_train, y_train, ax[\u001b[38;5;241m1\u001b[39m], clf \u001b[38;5;241m=\u001b[39m LM)\n",
      "\u001b[0;31mNameError\u001b[0m: name 'loss_train' is not defined"
     ]
    },
    {
     "data": {
      "image/png": "[encoded data removed]",
      "text/plain": [
       "<Figure size 600x300 with 2 Axes>"
      ]
     },
     "metadata": {},
     "output_type": "display_data"
    }
   ],
   "source": [
    "fig, ax = plt.subplots(1, 2, figsize = (6, 3))\n",
    "ax[0].plot(loss_train, c = \"steelblue\", label = \"Training\")\n",
    "ax[0].set(xlabel = \"iteration\", ylabel = \"loss\")\n",
    "plot_classification_data(X_train, y_train, ax[1], clf = LM)\n",
    "plt.tight_layout()"
   ]
  },
  {
   "cell_type": "markdown",
   "metadata": {},
   "source": [
    "Yep, that's logistic regression! We've fit a reasonable classifying line, but haven't captured any nonlinear trend. \n",
    "\n",
    "## Adding A Hidden Layer\n",
    "\n",
    "In order to model the nonlinearity, let's add a single hidden layer to our model. "
   ]
  },
  {
   "cell_type": "code",
   "execution_count": 6,
   "metadata": {},
   "outputs": [],
   "source": [
    "from torch import nn \n",
    "\n",
    "class SingleHiddenLayer(nn.Module):\n",
    "\n",
    "    def __init__(self, num_features, num_labels, num_hidden):\n",
    "        \"\"\"\n",
    "        sets up the model infrastructure\n",
    "        \"\"\"\n",
    "        super().__init__()\n",
    "    \n",
    "        self.pipeline = nn.Sequential(\n",
    "            #input features has to match \n",
    "            #secong arg in nn.Linear has to match first arg in ll.Linear to allow math to be okay\n",
    "            nn.Linear(num_features, num_hidden), \n",
    "            nn.ReLU(),\n",
    "            nn.Linear(num_hidden, num_labels)\n",
    "        )\n",
    "\n",
    "    def score(self, x):\n",
    "        \"\"\"\n",
    "        computes scores for each class \n",
    "        \"\"\"\n",
    "        return self.pipeline(x)\n",
    "\n",
    "    def predict(self, x): \n",
    "        return self.score(x) > 0"
   ]
  },
  {
   "cell_type": "markdown",
   "metadata": {},
   "source": [
    "Let's also streamline the process of fitting the model and visualizing the results. "
   ]
  },
  {
   "cell_type": "code",
   "execution_count": 7,
   "metadata": {},
   "outputs": [],
   "source": [
    "def plot_experiment(model, **kwargs):\n",
    "    fig, ax = plt.subplots(1, 3, figsize = (9, 3))\n",
    "    loss_train, loss_val = train_model(model, **kwargs)     \n",
    "    ax[0].plot(loss_train, c = \"steelblue\", label = \"Training\")\n",
    "    ax[0].plot(loss_val, c = \"goldenrod\", label = \"Validation\")\n",
    "    ax[0].set(xlabel = \"Iteration\", ylabel = \"Loss\")\n",
    "    ax[0].legend()\n",
    "    plot_classification_data(X_train, y_train, ax[1], clf = model)    \n",
    "    plot_classification_data(X_val, y_val, ax[2], clf = model, data = \"Validation\")    \n",
    "    plt.tight_layout()"
   ]
  },
  {
   "cell_type": "code",
   "execution_count": 8,
   "metadata": {},
   "outputs": [
    {
     "ename": "NameError",
     "evalue": "name 'train_model' is not defined",
     "output_type": "error",
     "traceback": [
      "\u001b[0;31m---------------------------------------------------------------------------\u001b[0m",
      "\u001b[0;31mNameError\u001b[0m                                 Traceback (most recent call last)",
      "Cell \u001b[0;32mIn[8], line 2\u001b[0m\n\u001b[1;32m      1\u001b[0m LM \u001b[38;5;241m=\u001b[39m SingleHiddenLayer(\u001b[38;5;241m2\u001b[39m, \u001b[38;5;241m2\u001b[39m, \u001b[38;5;241m100\u001b[39m)\n\u001b[0;32m----> 2\u001b[0m \u001b[43mplot_experiment\u001b[49m\u001b[43m(\u001b[49m\u001b[43mLM\u001b[49m\u001b[43m,\u001b[49m\u001b[43m \u001b[49m\u001b[43mnum_steps\u001b[49m\u001b[43m \u001b[49m\u001b[38;5;241;43m=\u001b[39;49m\u001b[43m \u001b[49m\u001b[38;5;241;43m5000\u001b[39;49m\u001b[43m,\u001b[49m\u001b[43m \u001b[49m\u001b[43mlr\u001b[49m\u001b[43m \u001b[49m\u001b[38;5;241;43m=\u001b[39;49m\u001b[43m \u001b[49m\u001b[38;5;241;43m0.2\u001b[39;49m\u001b[43m)\u001b[49m\n",
      "Cell \u001b[0;32mIn[7], line 3\u001b[0m, in \u001b[0;36mplot_experiment\u001b[0;34m(model, **kwargs)\u001b[0m\n\u001b[1;32m      1\u001b[0m \u001b[38;5;28;01mdef\u001b[39;00m \u001b[38;5;21mplot_experiment\u001b[39m(model, \u001b[38;5;241m*\u001b[39m\u001b[38;5;241m*\u001b[39mkwargs):\n\u001b[1;32m      2\u001b[0m     fig, ax \u001b[38;5;241m=\u001b[39m plt\u001b[38;5;241m.\u001b[39msubplots(\u001b[38;5;241m1\u001b[39m, \u001b[38;5;241m3\u001b[39m, figsize \u001b[38;5;241m=\u001b[39m (\u001b[38;5;241m9\u001b[39m, \u001b[38;5;241m3\u001b[39m))\n\u001b[0;32m----> 3\u001b[0m     loss_train, loss_val \u001b[38;5;241m=\u001b[39m \u001b[43mtrain_model\u001b[49m(model, \u001b[38;5;241m*\u001b[39m\u001b[38;5;241m*\u001b[39mkwargs)     \n\u001b[1;32m      4\u001b[0m     ax[\u001b[38;5;241m0\u001b[39m]\u001b[38;5;241m.\u001b[39mplot(loss_train, c \u001b[38;5;241m=\u001b[39m \u001b[38;5;124m\"\u001b[39m\u001b[38;5;124msteelblue\u001b[39m\u001b[38;5;124m\"\u001b[39m, label \u001b[38;5;241m=\u001b[39m \u001b[38;5;124m\"\u001b[39m\u001b[38;5;124mTraining\u001b[39m\u001b[38;5;124m\"\u001b[39m)\n\u001b[1;32m      5\u001b[0m     ax[\u001b[38;5;241m0\u001b[39m]\u001b[38;5;241m.\u001b[39mplot(loss_val, c \u001b[38;5;241m=\u001b[39m \u001b[38;5;124m\"\u001b[39m\u001b[38;5;124mgoldenrod\u001b[39m\u001b[38;5;124m\"\u001b[39m, label \u001b[38;5;241m=\u001b[39m \u001b[38;5;124m\"\u001b[39m\u001b[38;5;124mValidation\u001b[39m\u001b[38;5;124m\"\u001b[39m)\n",
      "\u001b[0;31mNameError\u001b[0m: name 'train_model' is not defined"
     ]
    },
    {
     "data": {
      "image/png": "[encoded data removed]",
      "text/plain": [
       "<Figure size 900x300 with 3 Axes>"
      ]
     },
     "metadata": {},
     "output_type": "display_data"
    }
   ],
   "source": [
    "LM = SingleHiddenLayer(2, 2, 100)\n",
    "plot_experiment(LM, num_steps = 5000, lr = 0.2)"
   ]
  },
  {
   "cell_type": "markdown",
   "metadata": {},
   "source": [
    "We've been able to model a nonlinear decision boundary without explicitly constructing a feature map or using kernels. Instead, we learned a helpful feature map as part of the training process. \n",
    "\n",
    "[Note that omitting the `ReLU` layer in the hidden layer will result in a model that is equivalent to the linear model. This is because the composition of two linear functions is itself a linear function. Try it!]{.aside}\n",
    "\n",
    "What if we wanted Even More Layers? We can easily do this just by adding more layers inside the pipeline. "
   ]
  },
  {
   "cell_type": "code",
   "execution_count": 9,
   "metadata": {},
   "outputs": [],
   "source": [
    "from torch import nn \n",
    "\n",
    "class FullyConnectedStack(nn.Module):\n",
    "\n",
    "    def __init__(self, num_features, num_labels):\n",
    "        \"\"\"\n",
    "        sets up the model infrastructure\n",
    "        \"\"\"\n",
    "        super().__init__()\n",
    "    \n",
    "        self.pipeline = nn.Sequential(\n",
    "            #we add two hidden layers\n",
    "            nn.Linear(num_features, 50), #fifty hidden features\n",
    "            nn.ReLU(), #ReLu that\n",
    "            nn.Linear(50, 10), #hit it with another linear layer bbut collapse 50 to 10 hidden features\n",
    "            nn.ReLU(), #relu that\n",
    "            nn.Linear(10, num_labels)     # linear final layer that returns scores to the num of layers        \n",
    "        )\n",
    "\n",
    "    def score(self, x):\n",
    "        \"\"\"\n",
    "        computes scores for each class \n",
    "        \"\"\"\n",
    "        return self.pipeline(x)\n",
    "\n",
    "    def predict(self, x): \n",
    "        return self.score(x) > 0"
   ]
  },
  {
   "cell_type": "markdown",
   "metadata": {},
   "source": [
    "As usual, adding more layers can help us model more complex patterns in the data, but also increases the risk of overfitting."
   ]
  },
  {
   "cell_type": "code",
   "execution_count": 10,
   "metadata": {},
   "outputs": [
    {
     "ename": "NameError",
     "evalue": "name 'train_model' is not defined",
     "output_type": "error",
     "traceback": [
      "\u001b[0;31m---------------------------------------------------------------------------\u001b[0m",
      "\u001b[0;31mNameError\u001b[0m                                 Traceback (most recent call last)",
      "Cell \u001b[0;32mIn[10], line 2\u001b[0m\n\u001b[1;32m      1\u001b[0m LM \u001b[38;5;241m=\u001b[39m FullyConnectedStack(\u001b[38;5;241m2\u001b[39m, \u001b[38;5;241m2\u001b[39m)\n\u001b[0;32m----> 2\u001b[0m \u001b[43mplot_experiment\u001b[49m\u001b[43m(\u001b[49m\u001b[43mLM\u001b[49m\u001b[43m,\u001b[49m\u001b[43m \u001b[49m\u001b[43mnum_steps\u001b[49m\u001b[43m \u001b[49m\u001b[38;5;241;43m=\u001b[39;49m\u001b[43m \u001b[49m\u001b[38;5;241;43m10000\u001b[39;49m\u001b[43m,\u001b[49m\u001b[43m \u001b[49m\u001b[43mlr\u001b[49m\u001b[43m \u001b[49m\u001b[38;5;241;43m=\u001b[39;49m\u001b[43m \u001b[49m\u001b[38;5;241;43m0.05\u001b[39;49m\u001b[43m,\u001b[49m\u001b[43m \u001b[49m\u001b[43mmomentum\u001b[49m\u001b[43m \u001b[49m\u001b[38;5;241;43m=\u001b[39;49m\u001b[43m \u001b[49m\u001b[38;5;241;43m0.8\u001b[39;49m\u001b[43m)\u001b[49m\n",
      "Cell \u001b[0;32mIn[7], line 3\u001b[0m, in \u001b[0;36mplot_experiment\u001b[0;34m(model, **kwargs)\u001b[0m\n\u001b[1;32m      1\u001b[0m \u001b[38;5;28;01mdef\u001b[39;00m \u001b[38;5;21mplot_experiment\u001b[39m(model, \u001b[38;5;241m*\u001b[39m\u001b[38;5;241m*\u001b[39mkwargs):\n\u001b[1;32m      2\u001b[0m     fig, ax \u001b[38;5;241m=\u001b[39m plt\u001b[38;5;241m.\u001b[39msubplots(\u001b[38;5;241m1\u001b[39m, \u001b[38;5;241m3\u001b[39m, figsize \u001b[38;5;241m=\u001b[39m (\u001b[38;5;241m9\u001b[39m, \u001b[38;5;241m3\u001b[39m))\n\u001b[0;32m----> 3\u001b[0m     loss_train, loss_val \u001b[38;5;241m=\u001b[39m \u001b[43mtrain_model\u001b[49m(model, \u001b[38;5;241m*\u001b[39m\u001b[38;5;241m*\u001b[39mkwargs)     \n\u001b[1;32m      4\u001b[0m     ax[\u001b[38;5;241m0\u001b[39m]\u001b[38;5;241m.\u001b[39mplot(loss_train, c \u001b[38;5;241m=\u001b[39m \u001b[38;5;124m\"\u001b[39m\u001b[38;5;124msteelblue\u001b[39m\u001b[38;5;124m\"\u001b[39m, label \u001b[38;5;241m=\u001b[39m \u001b[38;5;124m\"\u001b[39m\u001b[38;5;124mTraining\u001b[39m\u001b[38;5;124m\"\u001b[39m)\n\u001b[1;32m      5\u001b[0m     ax[\u001b[38;5;241m0\u001b[39m]\u001b[38;5;241m.\u001b[39mplot(loss_val, c \u001b[38;5;241m=\u001b[39m \u001b[38;5;124m\"\u001b[39m\u001b[38;5;124mgoldenrod\u001b[39m\u001b[38;5;124m\"\u001b[39m, label \u001b[38;5;241m=\u001b[39m \u001b[38;5;124m\"\u001b[39m\u001b[38;5;124mValidation\u001b[39m\u001b[38;5;124m\"\u001b[39m)\n",
      "\u001b[0;31mNameError\u001b[0m: name 'train_model' is not defined"
     ]
    },
    {
     "data": {
      "image/png": "[encoded data removed]",
      "text/plain": [
       "<Figure size 900x300 with 3 Axes>"
      ]
     },
     "metadata": {},
     "output_type": "display_data"
    }
   ],
   "source": [
    "LM = FullyConnectedStack(2, 2)\n",
    "plot_experiment(LM, num_steps = 10000, lr = 0.05, momentum = 0.8)"
   ]
  },
  {
   "cell_type": "markdown",
   "metadata": {},
   "source": [
    "## Looking Ahead\n",
    "\n",
    "So far, we have seen that a single hidden layer can help us learn nonlinear decision boundaries in data, without the need to construct handmade features or use kernel methods. However, we now have a wide range of both theoretical and practical questions ahead of us. \n",
    "\n",
    "- did not calculate gradient descent \n",
    "\n",
    "- deep learning revolution: stacking layers on top of each other, but what makes tech possible is loss.backward()\n",
    "\n",
    "- calculates the gradient for us efficiently, automatically and without approximation \n",
    "\n",
    "1. Are these models still convex? Can I still use gradient descent?\n",
    "2. Isn't it hard to compute gradients for these more complicated models? How does anyone keep track of all the calculus? \n",
    "3. How many layers should I use in my models? How large should the matrices be? \n",
    "4. How should I adapt my models when I am working with specific kinds of data, such as text, images, or audio?\n",
    "5. How should I guard against overfitting as my models get progressively more complex? \n"
   ]
  }
 ],
 "metadata": {
  "kernelspec": {
   "display_name": "Python 3 (ipykernel)",
   "language": "python",
   "name": "python3"
  },
  "language_info": {
   "codemirror_mode": {
    "name": "ipython",
    "version": 3
   },
   "file_extension": ".py",
   "mimetype": "text/x-python",
   "name": "python",
   "nbconvert_exporter": "python",
   "pygments_lexer": "ipython3",
   "version": "3.9.18"
  }
 },
 "nbformat": 4,
 "nbformat_minor": 4
}
