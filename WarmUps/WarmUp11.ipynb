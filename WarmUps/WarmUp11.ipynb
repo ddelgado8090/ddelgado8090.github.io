{
 "cells": [
  {
   "cell_type": "code",
   "execution_count": 38,
   "metadata": {},
   "outputs": [
    {
     "data": {
      "text/plain": [
       "17.4"
      ]
     },
     "execution_count": 38,
     "metadata": {},
     "output_type": "execute_result"
    }
   ],
   "source": [
    "import math\n",
    "\n",
    "def critical_point(a, epsilon, learning_rate_alpha, maxsteps):\n",
    "    \"'approximates the postitive square root of a real number (a)'\"\n",
    "    x = a\n",
    "    x_prime = 2*a\n",
    "    j = 0\n",
    "    while abs(x_prime - x) > epsilon:\n",
    "        if j > maxsteps:\n",
    "            break\n",
    "        x = x_prime\n",
    "        x_prime = x - (learning_rate_alpha * math.sqrt(a)) # or x - (a /x))\n",
    "        j = j + 1\n",
    "        return x_prime # or is it x?\n",
    "    \n",
    "critical_point(a = 9, epsilon = 1e-8, learning_rate_alpha = 0.2, maxsteps = 100)\n"
   ]
  },
  {
   "cell_type": "markdown",
   "metadata": {},
   "source": [
    "One setting of alpha for which your function returns a real number very close to the exact value of x_a.\n"
   ]
  },
  {
   "cell_type": "code",
   "execution_count": 37,
   "metadata": {},
   "outputs": [
    {
     "data": {
      "text/plain": [
       "17.99997"
      ]
     },
     "execution_count": 37,
     "metadata": {},
     "output_type": "execute_result"
    }
   ],
   "source": [
    "critical_point(a = 9, epsilon = 1e-8, learning_rate_alpha = 0.00001, maxsteps = 100)"
   ]
  },
  {
   "cell_type": "markdown",
   "metadata": {},
   "source": [
    "One setting of alpha for which your function fails to return a real number close to the exact value of x_a within the maximum number of steps"
   ]
  },
  {
   "cell_type": "code",
   "execution_count": 30,
   "metadata": {},
   "outputs": [
    {
     "data": {
      "text/plain": [
       "15.3"
      ]
     },
     "execution_count": 30,
     "metadata": {},
     "output_type": "execute_result"
    }
   ],
   "source": [
    "critical_point(a = 9, epsilon = 1e-8, learning_rate_alpha = 0.9, maxsteps = 100)"
   ]
  },
  {
   "cell_type": "markdown",
   "metadata": {},
   "source": [
    "Part D: \n",
    "\n",
    "- Yes it is possible: known as Newton's method (also known as the Newton-Raphson method).\n",
    "- For finding the square root of a number a, we can use Newton's method to solve the equation f(x)=x^2 − a = 0. \n",
    "- start with an initial guess, find the derivative using a formula and repeat until it gets as close as possible (what we coded above)"
   ]
  }
 ],
 "metadata": {
  "kernelspec": {
   "display_name": "ml-0451",
   "language": "python",
   "name": "python3"
  },
  "language_info": {
   "codemirror_mode": {
    "name": "ipython",
    "version": 3
   },
   "file_extension": ".py",
   "mimetype": "text/x-python",
   "name": "python",
   "nbconvert_exporter": "python",
   "pygments_lexer": "ipython3",
   "version": "3.9.18"
  }
 },
 "nbformat": 4,
 "nbformat_minor": 2
}
