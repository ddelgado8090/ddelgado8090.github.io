{
 "cells": [
  {
   "cell_type": "markdown",
   "metadata": {},
   "source": [
    "Part B:\n",
    "\n",
    "Let’s now imagine that the rapid COVID test does not just give a yes/no answer, but actually a score describing the patient’s likelihood of COVID on a scale from 0 to 1. What score is high enough to merit you staying home, according to your costs from Part A? "
   ]
  },
  {
   "cell_type": "code",
   "execution_count": 17,
   "metadata": {},
   "outputs": [],
   "source": [
    "import numpy as np\n",
    "\n",
    "NUM_CASES  = 1000\n",
    "PREVALENCE = 0.1\n",
    "NOISE      = 2\n",
    "\n",
    "cases  = 1*(np.random.rand(NUM_CASES) < PREVALENCE)\n",
    "scores = np.exp(cases + NOISE*(np.random.rand(NUM_CASES))) / np.exp(NOISE+1)"
   ]
  },
  {
   "cell_type": "code",
   "execution_count": 19,
   "metadata": {},
   "outputs": [
    {
     "data": {
      "text/plain": [
       "0.997"
      ]
     },
     "execution_count": 19,
     "metadata": {},
     "output_type": "execute_result"
    }
   ],
   "source": [
    "def t_cost (t):\n",
    "    cost_a = 0\n",
    "    cost_b = 0\n",
    "\n",
    "    for i in cases:\n",
    "        for j in scores:\n",
    "            if j > t: #if false positive\n",
    "                if i == 0:\n",
    "                    cost_a += 1\n",
    "            elif j < t: #if false negative\n",
    "                if i == 1:\n",
    "                    cost_b += 1\n",
    "    total_cost = 1 * cost_a + cost_b * 5\n",
    "    return total_cost\n",
    "\n",
    "#Using a for-loop or any other technique, conduct a search to find the value of t that minimizes the total cost\n",
    "min_cost = float('inf')\n",
    "min_t = None\n",
    "\n",
    "for i in range(0, 1001):\n",
    "    tresh = i/1000 #divides the number by 100 to get a num between 0 and 1\n",
    "    cost = t_cost(tresh)\n",
    "    if cost < min_cost:\n",
    "        min_cost = cost\n",
    "        min_t = tresh\n",
    "min_t\n",
    "\n",
    "\n"
   ]
  }
 ],
 "metadata": {
  "kernelspec": {
   "display_name": "ml-0451",
   "language": "python",
   "name": "python3"
  },
  "language_info": {
   "codemirror_mode": {
    "name": "ipython",
    "version": 3
   },
   "file_extension": ".py",
   "mimetype": "text/x-python",
   "name": "python",
   "nbconvert_exporter": "python",
   "pygments_lexer": "ipython3",
   "version": "3.9.18"
  }
 },
 "nbformat": 4,
 "nbformat_minor": 2
}
