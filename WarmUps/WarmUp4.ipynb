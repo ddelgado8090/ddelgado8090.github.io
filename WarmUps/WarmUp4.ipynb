{
 "cells": [
  {
   "cell_type": "markdown",
   "metadata": {},
   "source": [
    "When was a time in your life in which you felt that you were the subject of an unfair decision? What was it about that decision that made it feel unfair, rather than just bad, disappointing, or surprising?\n",
    "\n",
    "    - A decision that was made unfairly was that when I was bout 6 or 7, my family was going to watch the Astros play in the stadium, but then my sister and I got into an argument. We were fighting and calling each other names, but in my defense, she started it. As a consequence, my parents cancelled the plans they made. It was unfair because I also got in trouble for something I was only defending myself in and it was disappointing because we loved going to baseball games and that was always a fun time for everyone. I also was sad I missed out on getting an ice cream hat. \n",
    "\n",
    "Consider Figure 4 in the Introduction of BHN. In this figure, there are blue dots and green dots, where the colors correspond to hypothetical demographic attributes. We as the reader can choose what the colors mean.\n",
    "\n",
    "Suggest one possible meaning for the blue and green dots in which you would say that the classifier depicted in the figure is unproblematic from the perspective of fairness.\n",
    "    - Previous experience or not\n",
    "Suggest one possible meaning for the blue and green dots in which you would say that the classifier depicted in the figure is concerning from the perspective of fairness.\n",
    "    - Sex: Male or female\n",
    "    - This is concerning because there would be an unequal amount of sexes being accepted into colleges. It is also unfair to compare based on sex.\n",
    "What is the relevant difference between the two cases?\n",
    "    - The difference between both is that one looks at something that would not apply to the job and you can't control, while with having experience or not, that applies to the job and it is something you can improve."
   ]
  }
 ],
 "metadata": {
  "kernelspec": {
   "display_name": "ml-0451",
   "language": "python",
   "name": "python3"
  },
  "language_info": {
   "name": "python",
   "version": "3.9.18"
  }
 },
 "nbformat": 4,
 "nbformat_minor": 2
}
