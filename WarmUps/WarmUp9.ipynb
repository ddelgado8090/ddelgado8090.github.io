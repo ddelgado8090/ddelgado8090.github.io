{
 "cells": [
  {
   "cell_type": "code",
   "execution_count": 1,
   "metadata": {},
   "outputs": [
    {
     "name": "stdout",
     "output_type": "stream",
     "text": [
      "Intel MKL WARNING: Support of Intel(R) Streaming SIMD Extensions 4.2 (Intel(R) SSE4.2) enabled only processors has been deprecated. Intel oneAPI Math Kernel Library 2025.0 will require Intel(R) Advanced Vector Extensions (Intel(R) AVX) instructions.\n",
      "Intel MKL WARNING: Support of Intel(R) Streaming SIMD Extensions 4.2 (Intel(R) SSE4.2) enabled only processors has been deprecated. Intel oneAPI Math Kernel Library 2025.0 will require Intel(R) Advanced Vector Extensions (Intel(R) AVX) instructions.\n"
     ]
    }
   ],
   "source": [
    "import torch\n",
    "\n",
    "torch.manual_seed(1234)\n",
    "\n",
    "def perceptron_data(n_points = 300, noise = 0.2):\n",
    "    \n",
    "    y = torch.arange(n_points) >= int(n_points/2)\n",
    "    X = y[:, None] + torch.normal(0.0, noise, size = (n_points,2))\n",
    "    X = torch.cat((X, torch.ones((X.shape[0], 1))), 1)\n",
    "\n",
    "    # convert y from {0, 1} to {-1, 1}\n",
    "    y = 2*y - 1\n",
    "\n",
    "    return X, y\n",
    "\n",
    "X, y = perceptron_data(n_points = 300, noise = 0.2)\n"
   ]
  },
  {
   "cell_type": "code",
   "execution_count": 2,
   "metadata": {},
   "outputs": [],
   "source": [
    "import torch\n",
    "\n",
    "class LinearModel:\n",
    "\n",
    "    def __init__(self):\n",
    "        self.w = None \n",
    "\n",
    "    def score(self, X):\n",
    "        \"\"\"\n",
    "        Compute the scores for each data point in the feature matrix X. \n",
    "        The formula for the ith entry of s is s[i] = <self.w, x[i]>. \n",
    "\n",
    "        If self.w currently has value None, then it is necessary to first initialize self.w to a random value. \n",
    "\n",
    "        ARGUMENTS: \n",
    "            X, torch.Tensor: the feature matrix. X.size() == (n, p), \n",
    "            where n is the number of data points and p is the \n",
    "            number of features. This implementation always assumes \n",
    "            that the final column of X is a constant column of 1s. \n",
    "\n",
    "        RETURNS: \n",
    "            s torch.Tensor: vector of scores. s.size() = (n,)\n",
    "        \"\"\"\n",
    "        if self.w is None: \n",
    "            self.w = torch.rand((X.size()[1]))\n",
    "         # your computation here: compute the vector of scores s\n",
    "\n",
    "        scores = (X@self.w)\n",
    "        return scores\n",
    "\n",
    "    def predict(self, X):\n",
    "        \"\"\"\n",
    "        Compute the predictions for each data point in the feature matrix X. The prediction for the ith data point is either 0 or 1. \n",
    "\n",
    "        ARGUMENTS: \n",
    "            X, torch.Tensor: the feature matrix. X.size() == (n, p), \n",
    "            where n is the number of data points and p is the \n",
    "            number of features. This implementation always assumes \n",
    "            that the final column of X is a constant column of 1s. \n",
    "\n",
    "        RETURNS: \n",
    "            y_hat, torch.Tensor: vector predictions in {0.0, 1.0}. y_hat.size() = (n,)\n",
    "        \"\"\"\n",
    "        scores = self.score(X)\n",
    "        y_hat = torch.where(scores >= 0, torch.tensor(1.0), torch.tensor(0.0))\n",
    "        # or y_hat = (scores < 0) * (1.0)\n",
    "        return y_hat \n",
    "\n"
   ]
  },
  {
   "cell_type": "code",
   "execution_count": 46,
   "metadata": {},
   "outputs": [],
   "source": [
    "class Perceptron(LinearModel):\n",
    "\n",
    "    def loss(self, X, y):\n",
    "        \"\"\"\n",
    "        Compute the misclassification rate. A point i is classified correctly if it holds that s_i*y_i_ > 0, \n",
    "        where y_i_ is the *modified label* that has values in {-1, 1} (rather than {0, 1}). \n",
    "\n",
    "        ARGUMENTS: \n",
    "            X, torch.Tensor: the feature matrix. X.size() == (n, p), \n",
    "            where n is the number of data points and p is the \n",
    "            number of features. This implementation always assumes \n",
    "            that the final column of X is a constant column of 1s. \n",
    "\n",
    "            y, torch.Tensor: the target vector.  y.size() = (n,). The possible labels for y are {0, 1}\n",
    "        \n",
    "        HINT: In order to use the math formulas in the lecture, \n",
    "        you are going to need to construct a modified set of targets and predictions \n",
    "        that have entries in {-1, 1} -- otherwise none of the formulas will work right! \n",
    "        An easy to to make this conversion is: \n",
    "        \n",
    "        y_ = 2*y - 1\n",
    "        \"\"\"\n",
    "\n",
    "        # replace with your implementation\n",
    "        #converting [0,1] to [-1, 1]\n",
    "        y_ = 2*y - 1\n",
    "        #find misclassified\n",
    "        missclassified = y_ * self.score(X) <= 0\n",
    "        missclass_rate = torch.mean(1.0*missclassified)\n",
    "        return missclass_rate\n",
    "\n",
    "\n",
    "    def grad(self, X, y):\n",
    "        pass \n",
    "\n"
   ]
  },
  {
   "cell_type": "code",
   "execution_count": 47,
   "metadata": {},
   "outputs": [
    {
     "name": "stdout",
     "output_type": "stream",
     "text": [
      "tensor(True)\n"
     ]
    }
   ],
   "source": [
    "p = Perceptron()\n",
    "s = p.score(X)\n",
    "l = p.loss(X, y)\n",
    "print(l == 0.5)"
   ]
  },
  {
   "cell_type": "code",
   "execution_count": 48,
   "metadata": {},
   "outputs": [],
   "source": [
    "class PerceptronOptimizer:\n",
    "\n",
    "    def __init__(self, model):\n",
    "        self.model = model \n",
    "    \n",
    "    def step(self, X, y):\n",
    "        \"\"\"\n",
    "        Compute one step of the perceptron update using the feature matrix X \n",
    "        and target vector y. \n",
    "        \"\"\"\n",
    "        pass"
   ]
  }
 ],
 "metadata": {
  "kernelspec": {
   "display_name": "ml-0451",
   "language": "python",
   "name": "python3"
  },
  "language_info": {
   "codemirror_mode": {
    "name": "ipython",
    "version": 3
   },
   "file_extension": ".py",
   "mimetype": "text/x-python",
   "name": "python",
   "nbconvert_exporter": "python",
   "pygments_lexer": "ipython3",
   "version": "3.9.18"
  }
 },
 "nbformat": 4,
 "nbformat_minor": 2
}
