{
 "cells": [
  {
   "attachments": {},
   "cell_type": "markdown",
   "metadata": {},
   "source": [
    "# CSCI 0451: Mid-Course Reflection\n",
    "\n",
    "Daniela Delgado"
   ]
  },
  {
   "attachments": {},
   "cell_type": "markdown",
   "metadata": {},
   "source": [
    "## The Data\n",
    "\n",
    "*In this section I'll ask you to fill in some data. You don't have to give precise numbers -- approximate, conversational responses are fine. For example, when I ask \"how often have you attended class,\" good answers include \"almost always,\" \"I've missed three times,\" \"about 75% of the time,\" \"not as often as I want,\" etc.* \n",
    "\n",
    "### Presence in Class\n",
    "\n",
    "- *How often have you attended class? (e.g. \"almost always,\" \"I missed three times,\" etc.)* **I have only missed once.**\n",
    "- *How often have you taken notes on the core readings ahead of the class period?* **I have taken notes on every reading**\n",
    "- *How often have you been **prepared** to present the daily warm-up exercise to your team, even if you weren't actually called?* **I have been prepared every time, but also prepared to ask for help in certain parts.**\n",
    "- *How many times have you **actually** presented the daily warm-up to your team?* **I have presented every time my name has been listed, I believe it has been between 5-6 times.**\n",
    "- *How many times have you asked your team for help while presenting the daily warm-up?* **I have not asked for help.**\n",
    "- *How often have you learned something new from a teammate's presentation of the daily warm-up?* **I have learned something new every time.**\n",
    "- *How often have you helped a teammate during the daily warm-up presentation?* **I have helped twice.**\n",
    "\n",
    "### Presence Outside of Class \n",
    "\n",
    "- *How often have you attended Student Hours or Peer Help?* **I have attended almost always.**\n",
    "- *How often have you asked for or received help from your fellow students?* **Never.**\n",
    "- *Have you been regularly participating in a study group outside class?* **I have not.**\n",
    "- *How often have you posted questions or answers in Slack?* **I posted one question.**\n",
    "\n",
    "### Assignments and Effort\n",
    "\n",
    "- *How many blog posts have you submitted?* **I have submitted 3 blog posts.**\n",
    "- *How many of your submitted blog posts are at each of the following feedback stages?*\n",
    "    - E: *No revisions suggested:* **0**\n",
    "    - M: *Revisions useful:* **2**\n",
    "    - R: *Revisions encouraged:* **1**\n",
    "    - N: *Incomplete:* **0**\n",
    "- *Roughly how many hours per week have you spent on this course outside of class?* **Between 10-13 hours a week**\n"
   ]
  },
  {
   "attachments": {},
   "cell_type": "markdown",
   "metadata": {},
   "source": [
    "## What You've Learned\n",
    "\n",
    "*At the beginning of the course, you may have expressed an interest in focusing a little extra on one or two of the following four categories:* \n",
    "\n",
    "- ***Theory***: *mathematical descriptions of frameworks and algorithms.*\n",
    "- ***Implementation***: *effective coding and use of tools in order to implement efficient machine learning algorithms.*\n",
    "- ***Experimentation***: *performing experiments to assess the performance of algorithms and clearly communicating about the results.*\n",
    "- ***Social responsibility***: *critical analysis of sources of bias and harm in machine learning algorithms; theoretical formulations of fairness and bias*\n",
    "\n",
    "*Did you choose to focus on any of these categories? If so, what have you done in order to pursue your interest?*    "
   ]
  },
  {
   "attachments": {},
   "cell_type": "markdown",
   "metadata": {},
   "source": [
    "I chose to focus on the implementation and social responsibility categories. I believe I have done more progress towards focusing on social responsibility as most of the work we have done so far has been focused towards seeing the biases in machine learning and towards women. The readings and warm-ups we have done so far, as well as the blog post for the Women in Data Science Conference, have all contributed to the social responsibility theme. In pursuing the implementation category, I feel like I have partially worked towards this interest. I have effectively coded one assignment, the training model on penguins one, but I did not effectively implement the optimal bank loan blog post."
   ]
  },
  {
   "attachments": {},
   "cell_type": "markdown",
   "metadata": {},
   "source": [
    "## Reflecting on Goals\n",
    "\n",
    "*For each of the categories below, replace the \"[your response here]\" cell with 1-2 paragraphs in which you reflect on the following questions:* \n",
    "\n",
    "- *In what ways are you **on track to meet your goals** from the beginning of the course? Be specific: explain what the goal is and what you are doing in order to meet it.* \n",
    "- *In what ways are you **not on track to meet your goals** from the beginning of the course? Be specific: explain what the goal is and what gap you see between where you are and your goal.* \n",
    "- *If there's any **context** you want to share about how you are faring relative to your goals, please do!*\n",
    "\n",
    "### Blog Posts"
   ]
  },
  {
   "attachments": {},
   "cell_type": "markdown",
   "metadata": {},
   "source": [
    "- For the blog posts, I believe I am on track to meet my goal of five blog posts to the E level by hopefully getting two blog posts to reach E with the two revisions I just submitted this week. I am also on track as part of the goals I have is to post at least two blog posts for each of the two categories of my interest, and I currently have one for each category. However, I am not on track with submitting five blog posts to the E level as I struggled a lot with the optimal decision algorithm and I fear I spent too much time on it, as well as revisions taking time in order to get them to meet the E standard. I fear that as the workload picks up with the project, more math being implemented, etc. I will not have enough time to focus on the blog posts, and thus, be behind on my goals of six blogs total with five to the E standard. The past few weeks have put into perspective that I might take longer to complete blog posts because I take longer to understand what is going on and debug."
   ]
  },
  {
   "attachments": {},
   "cell_type": "markdown",
   "metadata": {},
   "source": [
    "### Course Presence (Participation)"
   ]
  },
  {
   "attachments": {},
   "cell_type": "markdown",
   "metadata": {},
   "source": [
    "- For the course presence, I feel like I am on track as it is halfway through the semester and I have not used the pass option when I present. I am also on track for attending student and peer hours at least twice a week as I have attended at least twice a week to ask questions on what torch is, debugging questions, and math questions. Furthermore, I am on track in my reading and note taking goals as I have all of the readings to date and have highlighted important notes on them. I feel like I am not on track with asking questions when other group members present as I do not find myself asking questions. I fear asking questions because I believe everyone else understands the approach given, and I do not want to seem like the odd man out. I do know that not asking the questions hurts me more than caring wht others would think of me. I am also not on track for the goal on attending a peer study session as I am not sure if one exists or how I would form one if I do not really talk to people in the class as often. "
   ]
  },
  {
   "attachments": {},
   "cell_type": "markdown",
   "metadata": {},
   "source": [
    "### Project "
   ]
  },
  {
   "attachments": {},
   "cell_type": "markdown",
   "metadata": {},
   "source": [
    "- I am unsure if I am on track or not with the project. None of the goals I set, for example submitting the project milestones on time and meeting and communicating with my team, have happened as the group has not been formed. However, I am on track as I have been thinking on the ideas that interest me for a project and being open and excited to new ideas."
   ]
  },
  {
   "attachments": {},
   "cell_type": "markdown",
   "metadata": {},
   "source": [
    "### Other\n",
    "\n",
    "*Is there anything else that you want to share with me about what you have learned, how you have participated, or what you have achieved in CSCI 0451?*"
   ]
  },
  {
   "attachments": {},
   "cell_type": "markdown",
   "metadata": {},
   "source": [
    "- I wanted to share that I had not done higher level math in a while, so I have been studying up on calculus and linear algebra as it has started to pick up. I believe this adds to my participation as it helps me be more prepared for the warm ups!"
   ]
  },
  {
   "attachments": {},
   "cell_type": "markdown",
   "metadata": {},
   "source": [
    "### Updating Your Goals\n",
    "\n",
    "From your experience in CSCI 0451 and your other classes this semester, you may feel moved to make modifications to your goals. Are they still feasible? Too ambitious? Not ambitious enough? If you would like to revise any of your goals from your reflective goal-setting, you can do so below. For each goal you want to modify: \n",
    "\n",
    "1. Clearly state what the goal was. \n",
    "2. Clearly state how you've done on that goal so far. \n",
    "3. Clearly state your proposed revised goal for the remainder of the course. "
   ]
  },
  {
   "attachments": {},
   "cell_type": "markdown",
   "metadata": {},
   "source": [
    "## Blog Posts Revision\n",
    "\n",
    "1. My goal was to complete six blog posts total, one for each category and then an extra one for the two categories I am most interested in, and complete 5 to the E level.\n",
    "2. For the goal, I have turned in three blog posts, two of which each count towards the categories I am interested in. However, neither are at the E level.\n",
    "3. For my revised goal, I would like to change to having five blog posts total where the themes I am interested in get two blog posts. However, instead of turning in at least 5 blog posts to be E level, I would change it to at least three or four as the course work for other classes is drastically picking up as well as the difficulty on the posts and the time I spend on them, especially thinking of the project coming up as well. "
   ]
  },
  {
   "attachments": {},
   "cell_type": "markdown",
   "metadata": {},
   "source": [
    "## Grade and Goals\n",
    "\n",
    "*Take 15 minutes to look back on your responses in each of the sections above. Then, state the letter grade that you feel reflects your learning, participation, and achievement in CSCI 0451 **so far**, and contextualize it against some of the soundbytes below.* \n",
    "\n",
    "### What a Grade Sounds Like\n",
    "\n",
    "*An **A** sounds like:* \n",
    "\n",
    "- *\"I am very proud of my time in this course.\"*\n",
    "- *\"I have grown significantly in multiple ways that matter to me.\"*\n",
    "- *\"I am ready to take the theory, techniques, and ideas of this course into my future classes, projects, hobbies, or career.\"* \n",
    "\n",
    "*A **B** sounds like:* \n",
    "\n",
    "- *\"I had some opportunities to learn more, overall I feel good about my time in this course.\"*\n",
    "- *\"I am able to explain some new things or achieve new tasks.\"*\n",
    "- *\"I can see a few ideas from this course that will be relevant for my future classes, projects, hobbies, or career.\"*\n",
    "\n",
    "*A **C** sounds like:* \n",
    "\n",
    "- *\"I often made a good effort, but I missed many opportunities to get more out of my time in this course.\"*\n",
    "- *\"I might be able to complete some new tasks related to the course content, but only with significant further guidance.\"* \n",
    "- *\"I don't see any ways to take the contents of this course into my future classes, projects, hobbies, or career.\"*\n",
    "\n",
    "*You might find that some of these soundbytes resonate and other's don't! Take some time, see what feels right, and don't be afraid to celebrate your achievements.* "
   ]
  },
  {
   "attachments": {},
   "cell_type": "markdown",
   "metadata": {},
   "source": [
    "> **Upon reflection, I feel that my learning, participation, and achievement in CSCI 0451 (so far) are best reflected by a grade of** a C. \n",
    "\n",
    "> **A way in which I resonate with the soundbytes for that grade above is...** that I was able to complete some new tasks related to the course content, but only with significant further guidance as I experienced with trying to find the bug in my optimal banking decision. However, I also resonate with the soundbyte from B that I am able to explain some new things or achieve new tasks as I believe I am understanding the biases and the recent math happening in the course.\n",
    "\n"
   ]
  },
  {
   "attachments": {},
   "cell_type": "markdown",
   "metadata": {},
   "source": [
    "## (Optional:) How to Improve? \n",
    "\n",
    "*You may feel disappointed by your reflection. Sometimes we don't achieve all our goals -- it happens and it's normal! If you are feeling disappointed by how you've learned, participated, or achieved in CSCI 0451, then feel free to write something about that below. Feel free to just write your feelings. If you have ideas for how to move forward, include those too! We'll talk.* "
   ]
  },
  {
   "attachments": {},
   "cell_type": "markdown",
   "metadata": {},
   "source": [
    "- I feel a little disappointed in where I am with my blog post goals as I feel like I am behind to where I wanted to be, and the grade I have been getting for the posts have not been what I hoped. I feel like I am struggling, especially because I do not have peers to reach out to for help as I do not know anyone in the class, so I rely on the times I can attend student and peer hours. I am also nervous on the final project as I do not know if I will end up working alone or with a group, so this is adding to my stress on being able to complete the blog posts. However, I might reach out to someone who comments an interesting or similar idea on the project ideas slack in hopes of working collaboratively."
   ]
  }
 ],
 "metadata": {
  "kernelspec": {
   "display_name": "ml-0451",
   "language": "python",
   "name": "python3"
  },
  "language_info": {
   "name": "python",
   "version": "3.9.18"
  },
  "orig_nbformat": 4,
  "vscode": {
   "interpreter": {
    "hash": "debe06cc0f9553f110b64dc3926c05df82dae2145b852c8422b9c04315589dcb"
   }
  }
 },
 "nbformat": 4,
 "nbformat_minor": 2
}
