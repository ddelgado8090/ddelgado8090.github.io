{
 "cells": [
  {
   "cell_type": "raw",
   "metadata": {
    "vscode": {
     "languageId": "raw"
    }
   },
   "source": [
    "---\n",
    "title: Final Project Blog Post\n",
    "author: Daniela Delgado and Lenox Herman\n",
    "date: '2024-05-16'\n",
    "image: \"image.jpg\"\n",
    "description: \"A blog post describing our final project\"\n",
    "format: html\n",
    "---"
   ]
  },
  {
   "cell_type": "raw",
   "metadata": {
    "vscode": {
     "languageId": "raw"
    }
   },
   "source": [
    "bibliography: refs.bib"
   ]
  },
  {
   "cell_type": "markdown",
   "metadata": {},
   "source": [
    "# Abstract \n",
    "\n",
    "Navigating tipping etiquette at restaurants or shops can be challenging due to inconsistencies across different locations and cultures. In our project, we aimed to analyze the tipping behavior following meals at restaurants. Specifically, we sought to investigate whether various factors, such as gender or party size, influenced tip amounts. To address this issue, we employed predictive models, those being linear regression, decision tree classifier, and random forest classifier, to estimate the expected tip for each individual based on the given variables. We ran these models simply on the data and then with combinations of different columns/attributes. The overall results on our testing data was a score accuracy of about 40% and with signs of overfitting. \n",
    "\n",
    "[GitHub repository](https://github.com/lenoxherman/Tippers/blob/main/ProjectFinal.ipynb)\n",
    "\n",
    "[GitHub py file](https://github.com/lenoxherman/Tippers/blob/main/GDO.py)\n"
   ]
  },
  {
   "cell_type": "markdown",
   "metadata": {},
   "source": [
    "# Introduction\n",
    "\n",
    "In the social dance of dining out, tipping is impossible to navigate and often adds stress and confusion to your dining experience. The custom of tipping, ingrained in many cultures, serves as a form of appreciation for service rendered, yet navigating the nuances of tipping etiquette remains inconsistent across locations and cultures. \n",
    "\n",
    "Scholars have attempted to uncover what factors influence tipping behavior, looking into an array of variables from physical attractiveness and service quality to demographic factors like age, race, and gender. Lynn and Simons (@LynnRestaurantTippingandServiceQuality2000) set up their study at a Mexican restaurant in Houston, Texas, scrutinizing the impact of physical attractiveness, service quality, self-monitoring, and gender on tipping behavior. Age and ethnicity were also collected but weren’t used in synthesizing the data. For self-monitoring, the servers were asked to fill out a survey assessing their strengths and weaknesses, including categories such as attentiveness and friendliness. Photographs of the participants were taken, and then a panel of 10 judges, 5 male and 5 female, assessed their physical attractiveness. Each server's tips were then recorded, making sure that participants had equal amounts of evening shifts and day shifts. The findings of the study showed that tips given during daytime shifts, aka during lunch, did not hold any significant findings. Attractive servers were given higher percent tips than unattractive servers. However this only applied to female servers, not male servers. There was no effect of attractiveness on percent tips for male servers. Also, servers who had more confidence in their abilities and rated themselves higher on the survey also had higher percentage tips. \n",
    "\n",
    "Jewell (2008) contributed to this body of knowledge by researching the demographic factors in tipping behavior, despite the potential introduction of biases. In this study 97 individuals were evaluated as customers at a restaurant and the waitresses were actors. They looked at interactions between the patron and the servers, evaluating factors like age, race, mealtime, gender, alcohol consumption, and interpersonal touch connection. Overall the study found that surprisingly younger populations left higher tips than the middle age or the elderly. The biggest predictor of tipping behavior was race, the tip average for a black waiter was 7% lower than that of a white waiter. However, white diners also tip more than black diners as well. Lastly, diners who drank alcohol actually tipped less than those who did order an alcoholic beverage.  \n",
    "\n",
    "Adding to this research, Cho (2014) dissected the multifaceted dynamics of tipping behavior, examining variables such as bill size, party size, and patron gender. Business students at an urban university were asked to keep a tipping log, keeping track of where they ate, when, and what tip they left behind. Contrary to the Jewell study, they found a positive relationship between tip amounts and whether or not the party ordered alcohol. They established a relationship between tip size mealtime and bill size, with dinner and bigger bill size tipping more. Lastly, they established a connection between gender and tipping amounts, finding that female costumes often tipped higher. \n",
    "\n",
    "As you can tell, the empirical evidence is contradictory and confusing. Factors that are proved significant in one study, their inverse is proved true in the next. The studies all emphasize the importance of setting and context when tipping and the high variability in tipping behavior can be explained by the social norms and context dependent decisions being made. \n",
    "\n",
    "Given the fragmented nature of empirical evidence surrounding tipping behavior, our project seeks to address this complexity by employing predictive modeling techniques. Focusing on tipping behavior following meals at restaurants, we aim to analyze the influence of factors like gender and party size on tip amounts. Through this approach, we endeavor to provide a more nuanced understanding of tipping etiquette, moving beyond anecdotal observations to uncover underlying patterns and dynamics.\n"
   ]
  }
 ],
 "metadata": {
  "kernelspec": {
   "display_name": "ml-0451",
   "language": "python",
   "name": "python3"
  },
  "language_info": {
   "codemirror_mode": {
    "name": "ipython",
    "version": 3
   },
   "file_extension": ".py",
   "mimetype": "text/x-python",
   "name": "python",
   "nbconvert_exporter": "python",
   "pygments_lexer": "ipython3",
   "version": "3.9.18"
  }
 },
 "nbformat": 4,
 "nbformat_minor": 4
}
