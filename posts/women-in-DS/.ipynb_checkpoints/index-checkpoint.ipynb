{
 "cells": [
  {
   "cell_type": "raw",
   "metadata": {},
   "source": [
    "---\n",
    "title: Women in Data Science\n",
    "author: Daniela Delgado\n",
    "date: '2024-03-24'\n",
    "image: \"image.jpg\"\n",
    "description: \"In this blog post, we explore why there are fewer women in the data science field thorugh readings and analyzations.\n",
    "We also reflect and contexualize on the women who spoke on their careers in the data science field.\"\n",
    "format: html\n",
    "---"
   ]
  },
  {
   "cell_type": "markdown",
   "metadata": {},
   "source": [
    "**Part 1: Why Spotlight Women in Data Science?**\n",
    "\n",
    "Why is it a problem that women are underrepresented in computing, math, and engineering? For whom is it a problem?\n",
    "\n",
    "    - It is a problem because of innovation. For example, problems that need solutions, such as climate change and water allocation, require the skills of computing, math and engineering fields. Having a smaller representation of women in the field limits the creative potential to solve these problems. Additionally, companies are also at a loss as, due to the gender biases, they often chose men to work for their company despite them scoring lower in math than some women. This places the company at a disadvantage as they are less globally competitive.\n",
    "    - The problem is also for women as they are missing out on high-quality job opportunities with high pay. These jobs are also more flexible, which women would be missing out on. Additionally, it is a problem for women as the continual under-representation of women in these fields leads to a perpetual cycle of living in the harmful stereotypes and gender biases that women do not belong in the computing, math, and engineering fields because they do not see themselves in those jobs.\n",
    "\n",
    "\n",
    "How is the representation and status of women in computing today different from the 1950s and 1960s? What are some of the forces that brought on this change?\n",
    "\n",
    "    - The percent of women who are computing professionals was the same in 2013 as it was in the 1960s.\n",
    "    - A few number of women began to earn engineering degrees in the late 1800s and early 1900s. By the 1950s, women made up about 1% of the students in engineering programs in universities. Throughout the 1950s and into the 60s, male colleges began to admit women to increase the number of female students in the programs. However, because of male-dominated fields and gender norms, engineering was still considered to be for males.\n",
    "    - In computing, women were more represented in the 1950s than men. For example, during Word War II, women made up most of the computer programmers. However, in the 1960s and 70s, men began to dominate the field due to hiring practices favoring men and because they did more gaming on personal computers so men began to be more attracted to the computing field. Men did more gaming as it was linked to the \"hobbyist\" culture and game playing in arcades that was usually dominated by males. Moreover, as computing became a more popular field to learn in colleges and universities, the departments had to place strict requirements to allow entry into the field. These requirements were disproportionately disadvantageous to women as they had less experience with programming and math than their counterparts. For all of these reasons, women today are still as underrepresented in the computing field today as they were in the 1950s and 60s.\n",
    "\n",
    "\n",
    "Which of the barriers and unequal challenges described in the section “Why So Few?” can be eroded by events that spotlight the achievement of women in STEM?\n",
    "    - A barrier that can be eroded by events spotlighting women's achievements is the barrier of feeling isolated in the field, that is, lacking mentors to help women and feeling like the space is not safe to speak up. This can be eroded by seeing the achievements of women in STEM as they would show that it is possible to be valued and courageous as well as to know that there are other women that can substitute as their mentor and get advice from them and their story. This community of women in STEM fosters a supportive community where women can connect, learn from one another, and access mentorship opportunities to dismantle the feeling of isolation and lack of guidance. Additionally, another barrier faced is the gender stereotype that men are better than girls at math and physical sciences. This roadblock is detrimental to women's representation in STEM fields as they feel less than and not as intelligent to pursue the fields in the first place. However, it can be destroyed by people seeing women succeeding in the STEM fields as it proves the gender stereotypes wrong. It illustrates that women are smart and do not fall short of men as can do anything they put their minds to. Seeing other women's achievements allows women to chose to pursue STEM fields as they see themselves represented in that career path and realize that their gender does not limit their capabilities or potential for success. Moreover, with the accomplishments on display, women can combat the sexism found in these fields where women receive less challenging assignments, thus limiting their career advancements. This exhibit of women's success in STEM can dismantle sexism in the department as it proves to department heads and women themselves that women can do impactful and vigorous work if given the challenge.\n"
   ]
  },
  {
   "cell_type": "markdown",
   "metadata": {},
   "source": [
    "**Part 3: Report!**\n",
    "\n"
   ]
  }
 ],
 "metadata": {
  "kernelspec": {
   "display_name": "Python 3 (ipykernel)",
   "language": "python",
   "name": "python3"
  },
  "language_info": {
   "codemirror_mode": {
    "name": "ipython",
    "version": 3
   },
   "file_extension": ".py",
   "mimetype": "text/x-python",
   "name": "python",
   "nbconvert_exporter": "python",
   "pygments_lexer": "ipython3",
   "version": "3.9.13"
  },
  "vscode": {
   "interpreter": {
    "hash": "debe06cc0f9553f110b64dc3926c05df82dae2145b852c8422b9c04315589dcb"
   }
  }
 },
 "nbformat": 4,
 "nbformat_minor": 4
}
