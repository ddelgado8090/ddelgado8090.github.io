{
 "cells": [
  {
   "cell_type": "markdown",
   "metadata": {},
   "source": [
    "---\n",
    "title: Women in Data Science\n",
    "author: Daniela Delgado\n",
    "date: '2024-03-24'\n",
    "image: \"image.jpg\"\n",
    "description: \"In this blog post, we explore why there are fewer women in the data science field thorugh readings and analyzations.\n",
    "We also reflect and contexualize on the women who spoke on their careers in the data science field.\"\n",
    "format: html\n",
    "---"
   ]
  },
  {
   "cell_type": "markdown",
   "metadata": {},
   "source": [
    "# **Abstract**\n",
    "\n",
    "- In this blog post, I explore why it is important to spotlight women in data science and analyze questions on why women are underrepresented in data science and STEM fields, why it is an issue, how it became an issue, and if there have been changes in representation since the 20th century. To answer these questions, I take information from some of the sections from the report \"Solving the Equation: The Variables for Women’s Success in Engineering and Computing\" written by Corbett and Hill (2015). Furthermore, I highlight a few women in STEM, specifically in data science, who came to talk at Middlebury College as part of the Middlebury Women in Data Science (WiDS) Conference and report their research. From these readings and the conference talks, my main takeaways are that women are limited in STEM fields based on the false ideas that society imposes on them and assumes of them, women in data science add to the creative and critical thinking skills needed to find solutions to world problems, and in order to increase female presence in STEM fields, we need to hold more spaces for women to see and hear the achievements of other women, such as this WiDS conference. \n",
    " "
   ]
  },
  {
   "cell_type": "markdown",
   "metadata": {},
   "source": [
    "# **Why Spotlight Women in Data Science?**\n",
    "\n",
    "Why is it a problem that women are underrepresented in computing, math, and engineering? For whom is it a problem?\n",
    "\n",
    "- It is a problem because of innovation. For example, problems that need solutions, such as climate change and water allocation, require the skills of computing, math and engineering fields. Having a smaller representation of women in the field limits the creative potential to solve these problems. Additionally, companies are also at a loss as, due to the gender biases, they often chose men to work for their company despite them scoring lower in math than some women. This places the company at a disadvantage as they are less globally competitive.\n",
    "- The problem is also for women as they are missing out on high-quality job opportunities with high pay. These jobs are also more flexible, which women would be missing out on. Additionally, it is a problem for women as the continual under-representation of women in these fields leads to a perpetual cycle of living in the harmful stereotypes and gender biases that women do not belong in the computing, math, and engineering fields because they do not see themselves in those jobs.\n",
    "\n",
    "\n",
    "How is the representation and status of women in computing today different from the 1950s and 1960s? What are some of the forces that brought on this change?\n",
    "\n",
    "- Overall, the percent of women who are computing professionals was the same in 2013 as it was in the 1960s.\n",
    "- A few number of women began to earn engineering degrees in the late 1800s and early 1900s. By the 1950s, women made up about 1% of the students in engineering programs in universities. Throughout the 1950s and into the 60s, male colleges began to admit women to increase the number of female students in the programs. However, because of male-dominated fields and gender norms, engineering was still considered to be for males.\n",
    "- In computing, women were more represented in the 1950s than men. For example, during Word War II, women made up most of the computer programmers. However, in the 1960s and 70s, men began to dominate the field due to hiring practices favoring men and because they did more gaming on personal computers so men began to be more attracted to the computing field. Men did more gaming as it was linked to the \"hobbyist\" culture and game playing in arcades that was usually dominated by males. Moreover, as computing became a more popular field to learn in colleges and universities, the departments had to place strict requirements to allow entry into the field. These requirements were disproportionately disadvantageous to women as they had less experience with programming and math than their counterparts. For all of these reasons, women today are still as underrepresented in the computing field today as they were in the 1950s and 60s.\n",
    "\n",
    "\n",
    "Which of the barriers and unequal challenges described in the section “Why So Few?” can be eroded by events that spotlight the achievement of women in STEM?\n",
    "- A barrier that can be eroded by events spotlighting women's achievements is the barrier of feeling isolated in the field, that is, lacking mentors to help women and feeling like the space is not safe to speak up. This can be eroded by seeing the achievements of women in STEM as they would show that it is possible to be valued and courageous as well as to know that there are other women that can substitute as their mentor and get advice from them and their story. This community of women in STEM fosters a supportive community where women can connect, learn from one another, and access mentorship opportunities to dismantle the feeling of isolation and lack of guidance. Additionally, another barrier faced is the gender stereotype that men are better than girls at math and physical sciences. This roadblock is detrimental to women's representation in STEM fields as they feel less than and not as intelligent to pursue the fields in the first place. However, it can be destroyed by people seeing women succeeding in the STEM fields as it proves the gender stereotypes wrong. It illustrates that women are smart and do not fall short of men as can do anything they put their minds to. Seeing other women's achievements allows women to chose to pursue STEM fields as they see themselves represented in that career path and realize that their gender does not limit their capabilities or potential for success. Moreover, with the accomplishments on display, women can combat the sexism found in these fields where women receive less challenging assignments, thus limiting their career advancements. This exhibit of women's success in STEM can dismantle sexism in the department as it proves to department heads and women themselves that women can do impactful and vigorous work if given the challenge.\n"
   ]
  },
  {
   "cell_type": "markdown",
   "metadata": {},
   "source": [
    "# **Lightning Talks**\n",
    "\n",
    "**First Lightning Talk: Professor Amy Yuen: Is the United Nations Security Council a Democratic Institution?**\n",
    "\n",
    "- For the first lighting talk, Professor Amy Yuen spoke about addressing the question: Is the United Nations security council a democratic institution? In her findings, she found that the security council is not equal in the way we believe because some people have veto power, while others do not. Specifically, out of 15 members in the council, only five hold the power to veto. To answer the question, she looked at meetings, presidential statements, etc. to see who engages with the council while also looking at what regions are in the council. A surprising finding, at least for me, was that Japan and Brazil have the top two longest sittings in the council. However, as the results came to show, the average line is more flat, illustrating the inclusivity and representation of states in the council. The results came to be that the UN security council is somewhat democratic, but it could be worse in terms of states.\n",
    "\n",
    "**Second Lightning Talk: Jessica L’Roe: Land Use in Conservation: Computational Linguistics Models for Mental Health**\n",
    "\n",
    "- Dr. Jessica L’Roe, the second lightning round speaker, researches land use in conservation hotspots and livelihoods, and works with survey data, interview data, property data, land cover data, and more. During her presentation, she spoke on land registration in the Amazon Rainforest in Brazil. The problem she wanted to address was: does the environmental registrar discourage deforestation? To answer this question, she took data from registered property boundaries and found that people lied about where their property boundaries lie and often said they owned less land than they did. This highlights potential flaws in the current land registration system, which are a detriment in raising conservation efforts. Additionally, she also spoke on monitoring the change in tropical forest landscapes, specifically the land covered change in Uganda. Noticing more trees were being planted rather than food production increasing, she asked the question: who is planting these trees and why? She took data from surveys connected to field-mapped woodlot polygons where the woodlots are owned by non-local people. Professor L’Roe tied in this research to a related problem of: as competition for land increases what happens to local youth? To answer this related question, she took quantitative and qualitative surveys over periods of time and found that mothers would rather invest in education rather than land because it was a safer bet for the success and future of their children. Finally, in her presentation, she had an overarching theme that women make big and important contributions to data science and conservation with data. She also emphasized the importance of women role models in the field and how the lack of women in data science and STEM should not discourage women from taking part in it. I especially took away how she mentioned that anything can be data because I did not imagine data science could be taken to the work of land conservation.\n",
    "\n",
    "**Third Lightning Talk: Professor Laura Biester**\n",
    "\n",
    "- For the final lightning talk, Professor Laura Biester spoke on her study on computational linguistics models for mental health. She needed to collect text data for mental health research, but it was a huge challenge due to privacy. Thus, she had to rely on using “self-reports.” In her work, she found that self-reports give hints on when the user was first diagnosed with depression, so she turned to Reddit to collect data files from 2006 to 2019 from people who self-reported. She collected statistics from users and then collected all of their posts from Reddit. In the end, she had about 20,500 diagnosed users and nine controls per user. After getting the data, she worked to normalize the models and classify it with a linear model. She found that model weights for pre-diagnosis models correspond more to symptoms while weights for all-encompassing models correspond more to mental health discussion. In her presentation, I learned that computational linguistics models can provide valuable insights into mental health trends, and there are always ways to get access to the data you need for your research. \n"
   ]
  },
  {
   "cell_type": "markdown",
   "metadata": {},
   "source": [
    "# **Keynote Presentation by Dr. Sarah M. Brown**\n",
    "\n",
    "- In the keynote presentation given by Dr. Sarah M. Brown, she started by talking about how data science skills can be found in unexpected places, which is true as proven by the professors who gave the three lightning talks. She also spoke on making machine learning more fair, which is something we have been analyzing and discussing in our Machine Learning 451 course at Middlebury College. For this, she mentioned thinking of machine learning as a sociotechnical system and growing our toolbox in data science. To grow the tool box, she spoke on three different projects she has worked on that gave her more tools to add into her toolbox. These three tools, which she calls keys, she explained during her talk and said they were helpful in solving problems in data science.\n",
    "- The first project she spoke on used the skill from 2004 which included using context to understand primary sources and importantly mentioned that data is a primary source. This project took place in 2012 that consisted of a patient and clinician seeing if the patient has PTSD, but instead of the clinician diagnosing, it would be the computer. There were scores to differentiate between the people who had PTSD and they were ranked on a scale. The key taken from this project was to understand the data’s context as it can enhance the accuracy and reliability of computational models. The second project’s skill is from her experience in 2009 where, within a given field, the same work can have different meanings in other fields. The key taken away is that disciplines are communities. The third project’s skill is tied to the second where everyone has different rules and ways of running things at the national, regional and chapter level. Thus, the key is to meet people where they are. With this third project, she needed a model to quantify fairness. She wanted to maximize what the feature says about the value variable and minimize the features with what is being fitted, in her research case it is accuracy compared to fairness. \n",
    "- She says data is biased because the world is biased, which is the reason biased models exist and why machine learning can be biased. She says choosing data to retrain data makes better data and, in order to solve these biases, creative thinking is a requirement. I really took away from these points as it is true that data is biased and it is those who are affected by the models, usually marginalized people, who want to work to fix the biased models. \n"
   ]
  },
  {
   "cell_type": "markdown",
   "metadata": {},
   "source": [
    "# **Conclusion and Reflection**\n",
    "\n",
    "- From this blog post, I learned that women believe they cannot succeed in math-heavy fields, such as engineering and computing, because society falsely tells them they are not as intelligent as men when it comes to mathematics. I did not know there was such an extensive history behind the reasons the under representation exists in the first place, such as gaming being the reason men decided to take up computing and because of the head start on education men had in the 1800s. Learning about the different barriers deterring women from getting a degree in a STEM field made me reflect and become aware that these were also things I found myself telling myself in order to not pursue computer science as a major, and thoughts I find myself thinking of now at times. However, reading about why it is important for women to be represented and noting everything I and the world would be missing out on in regards to growth opportunities from women partaking in computing and learning about the important work women are doing in data science, it makes me proud of the work I am doing. Moreover, I also learned that all things can be data and data can be found anywhere. My biggest takeaway was the mention of bias in data and how that creates biased machines. I never thought that data was biased as data is science and science has proof behind it. However, after listening to Dr. Brown's talk and connecting it to the discussions and readings we have done in class, I realized we do live in a biased world where we have to question and be skeptical of the way and the data was gathered and the methods used. This being said, I am interested in learning more on the collection of data and finding ways to make is as less biased as possible."
   ]
  }
 ],
 "metadata": {
  "kernelspec": {
   "display_name": "Python 3 (ipykernel)",
   "language": "python",
   "name": "python3"
  },
  "language_info": {
   "codemirror_mode": {
    "name": "ipython",
    "version": 3
   },
   "file_extension": ".py",
   "mimetype": "text/x-python",
   "name": "python",
   "nbconvert_exporter": "python",
   "pygments_lexer": "ipython3",
   "version": "3.9.18"
  },
  "vscode": {
   "interpreter": {
    "hash": "debe06cc0f9553f110b64dc3926c05df82dae2145b852c8422b9c04315589dcb"
   }
  }
 },
 "nbformat": 4,
 "nbformat_minor": 4
}
